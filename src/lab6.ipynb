{
 "cells": [
  {
   "cell_type": "markdown",
   "metadata": {},
   "source": [
    "# lab 6 - servers simulation\n",
    "- Ricardo Méndez 21289\n",
    "- Sara Echeverría 21371\n",
    "- Melissa Pérez 21385"
   ]
  },
  {
   "cell_type": "markdown",
   "metadata": {},
   "source": [
    "Suponga que usted está a cargo de definir la arquitectura para el lanzamiento de su próxima aplicación web, C3 (sistema de contabilidad de la carreta contadora). La junta directiva le ha solicitado encontrar el mejor servicio de hosting para el proyecto. Tras una extensa investigación, concluye que las mejores opciones son: \n",
    "- Proveedor 1 - Mountain Mega Computing, con una infraestructura de servidor único que puede atender hasta 100 solicitudes por segundo.\n",
    "- Proveedor 2 - Pizzita Computing, con una infraestructura en la nube de múltiples servidores medianamente potentes, donde cada servidor tiene una décima parte de la potencia del servidor de Mountain Mega Computing, y se paga solo por los servidores necesarios. \n",
    "\n",
    "Las pruebas de estrés y las proyecciones indican que su aplicación no excederá las 2,400 solicitudes por minuto durante los primeros dos años. Un análisis de sistemas similares sugiere que las solicitudes seguirán un proceso de Poisson, con tiempos de servicio modelados por una variable exponencial. Como debe presentar su decisión mañana, opta por realizar una simulación basada en la promoción de los proveedores para concluir cuál será la mejor opción."
   ]
  },
  {
   "cell_type": "code",
   "execution_count": 1,
   "metadata": {},
   "outputs": [],
   "source": [
    "import numpy as np\n",
    "from scipy.stats import expon"
   ]
  },
  {
   "cell_type": "code",
   "execution_count": 2,
   "metadata": {},
   "outputs": [],
   "source": [
    "def simulateProvider1(lambdaRate, serviceRate, simulationTime):\n",
    "    # converting simulationTime from hours to seconds\n",
    "    totalSimulationSeconds = simulationTime * 3600\n",
    "    \n",
    "    # calculate inter-arrival and service times for provider 1\n",
    "    interArrivalTimes = expon.rvs(scale=1/lambdaRate, size=int(lambdaRate * totalSimulationSeconds))\n",
    "    serviceTimes = expon.rvs(scale=1/serviceRate, size=int(lambdaRate * totalSimulationSeconds))\n",
    "\n",
    "    # initializing simulation parameters\n",
    "    currentTime = 0\n",
    "    lastServiceEndTime = 0\n",
    "    totalWaitTime = 0\n",
    "    totalBusyTime = 0\n",
    "\n",
    "    # processing each request\n",
    "    for interArrival, serviceTime in zip(interArrivalTimes, serviceTimes):\n",
    "        currentTime += interArrival\n",
    "        if currentTime > lastServiceEndTime:\n",
    "            waitTime = 0\n",
    "            serviceStartTime = currentTime\n",
    "        else:\n",
    "            waitTime = lastServiceEndTime - currentTime\n",
    "            serviceStartTime = lastServiceEndTime\n",
    "\n",
    "        serviceEndTime = serviceStartTime + serviceTime\n",
    "        lastServiceEndTime = serviceEndTime\n",
    "        totalWaitTime += waitTime\n",
    "        totalBusyTime += serviceTime\n",
    "\n",
    "    # calculating metrics\n",
    "    averageWaitTime = totalWaitTime / len(interArrivalTimes)\n",
    "    utilization = totalBusyTime / totalSimulationSeconds\n",
    "    return averageWaitTime, utilization"
   ]
  },
  {
   "cell_type": "code",
   "execution_count": 3,
   "metadata": {},
   "outputs": [],
   "source": [
    "def simulateProvider2(lambdaRate, serverPower, numServers, simulationTime):\n",
    "    # converting simulationTime from hours to seconds\n",
    "    totalSimulationSeconds = simulationTime * 3600\n",
    "\n",
    "    # calculate inter-arrival and service times for provider 2\n",
    "    interArrivalTimes = expon.rvs(scale=1/lambdaRate, size=int(lambdaRate * totalSimulationSeconds))\n",
    "    serviceRate = serverPower * numServers\n",
    "    serviceTimes = expon.rvs(scale=1/serviceRate, size=int(lambdaRate * totalSimulationSeconds))\n",
    "\n",
    "    # initializing simulation parameters\n",
    "    currentTime = 0\n",
    "    serversEndTime = [0] * numServers\n",
    "    totalWaitTime = 0\n",
    "    totalBusyTime = 0\n",
    "\n",
    "    # processing each request\n",
    "    for interArrival, serviceTime in zip(interArrivalTimes, serviceTimes):\n",
    "        currentTime += interArrival\n",
    "        earliestServer = np.argmin(serversEndTime)\n",
    "        if currentTime > serversEndTime[earliestServer]:\n",
    "            waitTime = 0\n",
    "            serviceStartTime = currentTime\n",
    "        else:\n",
    "            waitTime = serversEndTime[earliestServer] - currentTime\n",
    "            serviceStartTime = serversEndTime[earliestServer]\n",
    "\n",
    "        serviceEndTime = serviceStartTime + serviceTime\n",
    "        serversEndTime[earliestServer] = serviceEndTime\n",
    "        totalWaitTime += waitTime\n",
    "        totalBusyTime += serviceTime\n",
    "\n",
    "    # calculating metrics\n",
    "    averageWaitTime = totalWaitTime / len(interArrivalTimes)\n",
    "    utilization = totalBusyTime / (totalSimulationSeconds * numServers)\n",
    "    return averageWaitTime, utilization"
   ]
  },
  {
   "cell_type": "code",
   "execution_count": 4,
   "metadata": {},
   "outputs": [
    {
     "name": "stdout",
     "output_type": "stream",
     "text": [
      "-> provider 1 - average wait time: 0.0065 seconds, utilization: 39.89%\n",
      "-> provider 2 - average wait time: 0.0000 seconds, utilization: 16.02%\n"
     ]
    }
   ],
   "source": [
    "# simulation parameters\n",
    "lambdaRate = 40\n",
    "serverPower = 10  \n",
    "numServers = 5  \n",
    "simulationTime = 1\n",
    "\n",
    "# simulate each provider\n",
    "averageWaitTime1, utilization1 = simulateProvider1(lambdaRate, 100, simulationTime)\n",
    "averageWaitTime2, utilization2 = simulateProvider2(lambdaRate, serverPower, numServers, simulationTime)\n",
    "\n",
    "# print results\n",
    "print(\"-> provider 1 - average wait time: {:.4f} seconds, utilization: {:.2%}\".format(averageWaitTime1, utilization1))\n",
    "print(\"-> provider 2 - average wait time: {:.4f} seconds, utilization: {:.2%}\".format(averageWaitTime2, utilization2))"
   ]
  },
  {
   "cell_type": "markdown",
   "metadata": {},
   "source": [
    "## Tasks\n",
    "1. Modele, simule y analice el comportamiento de ambos sistemas durante una hora de ejecución de C3, y para cada sistema responda\n",
    "- ¿Cuántas solicitudes atendió cada servidor?\n",
    "- ¿Cuánto tiempo estuvo cada servidor ocupado?\n",
    "- ¿Cuánto tiempo estuvo cada servidor desocupado (iddle)?\n",
    "- ¿Cuánto tiempo en total estuvieron las solicitudes en cola?\n",
    "- En promedio ¿cuánto tiempo estuvo cada solicitud en cola?\n",
    "- En promedio, ¿cuántas solicitudes estuvieron en cola cada segundo?\n",
    "- ¿Cuál es el momento de la salida de la última solicitud?"
   ]
  },
  {
   "cell_type": "markdown",
   "metadata": {},
   "source": [
    "2. Determine empíricamente cuántos servidores se necesitaría “alquilar” en Pizzita computing para asegurar que siempre habrá al menos un servidor disponible para atender una solicitud dada (en otras palabras, una solicitud nunca tiene que esperar en cola)"
   ]
  },
  {
   "cell_type": "markdown",
   "metadata": {},
   "source": [
    "3. Se espera que a partir del tercer año del lanzamiento de su aplicación, la cantidad de usuarios sufra un alza, y por tanto deberán atender como máximo 6000 solicitudes por minuto. Resuelva el inciso 1 y 2 para esta nueva configuración."
   ]
  },
  {
   "cell_type": "markdown",
   "metadata": {},
   "source": [
    "4. Emita una recomendación para la junta directiva"
   ]
  }
 ],
 "metadata": {
  "kernelspec": {
   "display_name": "myenv",
   "language": "python",
   "name": "myenv"
  },
  "language_info": {
   "codemirror_mode": {
    "name": "ipython",
    "version": 3
   },
   "file_extension": ".py",
   "mimetype": "text/x-python",
   "name": "python",
   "nbconvert_exporter": "python",
   "pygments_lexer": "ipython3",
   "version": "3.9.13"
  }
 },
 "nbformat": 4,
 "nbformat_minor": 2
}
