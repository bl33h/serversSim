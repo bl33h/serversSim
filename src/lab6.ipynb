{
 "cells": [
  {
   "cell_type": "markdown",
   "metadata": {},
   "source": [
    "# lab 6 - servers simulation\n",
    "- Ricardo Méndez 21289\n",
    "- Sara Echeverría 21371\n",
    "- Melissa Pérez 21385"
   ]
  },
  {
   "cell_type": "markdown",
   "metadata": {},
   "source": [
    "Suponga que usted está a cargo de definir la arquitectura para el lanzamiento de su próxima aplicación web, C3 (sistema de contabilidad de la carreta contadora). La junta directiva le ha solicitado encontrar el mejor servicio de hosting para el proyecto. Tras una extensa investigación, concluye que las mejores opciones son: \n",
    "- Proveedor 1 - Mountain Mega Computing, con una infraestructura de servidor único que puede atender hasta 100 solicitudes por segundo.\n",
    "- Proveedor 2 - Pizzita Computing, con una infraestructura en la nube de múltiples servidores medianamente potentes, donde cada servidor tiene una décima parte de la potencia del servidor de Mountain Mega Computing, y se paga solo por los servidores necesarios. \n",
    "\n",
    "Las pruebas de estrés y las proyecciones indican que su aplicación no excederá las 2,400 solicitudes por minuto durante los primeros dos años. Un análisis de sistemas similares sugiere que las solicitudes seguirán un proceso de Poisson, con tiempos de servicio modelados por una variable exponencial. Como debe presentar su decisión mañana, opta por realizar una simulación basada en la promoción de los proveedores para concluir cuál será la mejor opción."
   ]
  },
  {
   "cell_type": "code",
   "execution_count": 1,
   "metadata": {},
   "outputs": [],
   "source": [
    "import numpy as np\n",
    "from scipy.stats import expon"
   ]
  },
  {
   "cell_type": "code",
   "execution_count": 2,
   "metadata": {},
   "outputs": [],
   "source": [
    "def simulateProvider1(lambdaRate, serviceRate, simulationTime):\n",
    "    totalSimulationSeconds = simulationTime * 3600\n",
    "    interArrivalTimes = expon.rvs(scale=1/lambdaRate, size=int(lambdaRate * totalSimulationSeconds))\n",
    "    serviceTimes = expon.rvs(scale=1/serviceRate, size=len(interArrivalTimes))\n",
    "    \n",
    "    # Métricas\n",
    "    requestsHandled = 0\n",
    "    totalWaitTime = 0\n",
    "    totalServiceTime = 0\n",
    "    idleTime = 0\n",
    "    lastDeparture = 0\n",
    "    \n",
    "    queue = []\n",
    "    currentTime = 0\n",
    "    serverBusy = False\n",
    "    serviceStartTime = 0\n",
    "    \n",
    "    for i in range(len(interArrivalTimes)):\n",
    "        currentTime += interArrivalTimes[i]\n",
    "        \n",
    "        if serverBusy:\n",
    "            if currentTime >= serviceStartTime + serviceTimes[i]:\n",
    "                serverBusy = False\n",
    "                lastDeparture = serviceStartTime + serviceTimes[i]\n",
    "                totalServiceTime += serviceTimes[i]\n",
    "                requestsHandled += 1\n",
    "            else:\n",
    "                queue.append(serviceTimes[i])\n",
    "        if not serverBusy and len(queue) == 0:\n",
    "            serverBusy = True\n",
    "            serviceStartTime = currentTime\n",
    "        elif len(queue) > 0:\n",
    "            # Atender la siguiente solicitud en la cola\n",
    "            nextServiceTime = queue.pop(0)\n",
    "            totalWaitTime += (currentTime - serviceStartTime)\n",
    "            serverBusy = True\n",
    "            serviceStartTime = currentTime\n",
    "    \n",
    "    idleTime = totalSimulationSeconds - totalServiceTime\n",
    "    \n",
    "    averageWaitTime = totalWaitTime / requestsHandled if requestsHandled > 0 else 0\n",
    "    utilization = totalServiceTime / totalSimulationSeconds\n",
    "    avgQueueLength = totalWaitTime / totalSimulationSeconds\n",
    "\n",
    "    return requestsHandled, totalServiceTime, idleTime, totalWaitTime, averageWaitTime, avgQueueLength, lastDeparture"
   ]
  },
  {
   "cell_type": "code",
   "execution_count": 3,
   "metadata": {},
   "outputs": [],
   "source": [
    "def simulateProvider2(lambdaRate, serverPower, numServers, simulationTime):\n",
    "    totalSimulationSeconds = simulationTime * 3600\n",
    "    interArrivalTimes = expon.rvs(scale=1/lambdaRate, size=int(lambdaRate * totalSimulationSeconds))\n",
    "    serviceTimes = expon.rvs(scale=1/serverPower, size=len(interArrivalTimes))\n",
    "    \n",
    "    # Métricas\n",
    "    requestsHandled = 0\n",
    "    totalWaitTime = 0\n",
    "    totalServiceTime = [0] * numServers  # Tiempo ocupado por cada servidor\n",
    "    idleTime = 0\n",
    "    lastDeparture = 0\n",
    "    \n",
    "    serverBusyUntil = [0] * numServers  # Tiempo hasta el que cada servidor está ocupado\n",
    "    queue = []\n",
    "    currentTime = 0\n",
    "    \n",
    "    for i in range(len(interArrivalTimes)):\n",
    "        currentTime += interArrivalTimes[i]\n",
    "        \n",
    "        # Revisamos si hay algún servidor disponible\n",
    "        serverAssigned = False\n",
    "        for j in range(numServers):\n",
    "            if serverBusyUntil[j] <= currentTime:\n",
    "                if len(queue) > 0:\n",
    "                    # Atender la siguiente solicitud en la cola\n",
    "                    nextServiceTime = queue.pop(0)\n",
    "                    totalWaitTime += (currentTime - serverBusyUntil[j])\n",
    "                    serverBusyUntil[j] = currentTime + nextServiceTime\n",
    "                    totalServiceTime[j] += nextServiceTime\n",
    "                    requestsHandled += 1\n",
    "                    serverAssigned = True\n",
    "                    lastDeparture = max(lastDeparture, serverBusyUntil[j])\n",
    "                elif len(queue) == 0:\n",
    "                    # Si no hay cola, atender esta solicitud\n",
    "                    serverBusyUntil[j] = currentTime + serviceTimes[i]\n",
    "                    totalServiceTime[j] += serviceTimes[i]\n",
    "                    requestsHandled += 1\n",
    "                    serverAssigned = True\n",
    "                    lastDeparture = max(lastDeparture, serverBusyUntil[j])\n",
    "                break\n",
    "        \n",
    "        if not serverAssigned:\n",
    "            # Si todos los servidores están ocupados, añadir a la cola\n",
    "            queue.append(serviceTimes[i])\n",
    "    \n",
    "    # Calcular el tiempo total ocupado y desocupado\n",
    "    totalServiceTimeSum = sum(totalServiceTime)\n",
    "    idleTime = totalSimulationSeconds * numServers - totalServiceTimeSum\n",
    "    \n",
    "    averageWaitTime = totalWaitTime / requestsHandled if requestsHandled > 0 else 0\n",
    "    utilization = totalServiceTimeSum / (totalSimulationSeconds * numServers)\n",
    "    avgQueueLength = totalWaitTime / totalSimulationSeconds\n",
    "\n",
    "    return requestsHandled, totalServiceTimeSum, idleTime, totalWaitTime, averageWaitTime, avgQueueLength, lastDeparture"
   ]
  },
  {
   "cell_type": "code",
   "execution_count": 4,
   "metadata": {},
   "outputs": [],
   "source": [
    "def runSimulations(lambdaRate, provider1ServiceRate, provider2ServerPower, provider2NumServers, simulationTime):\n",
    "    # simulación para el Proveedor 1\n",
    "    requestsHandled1, totalServiceTime1, idleTime1, totalWaitTime1, averageWaitTime1, avgQueueLength1, lastDeparture1 = simulateProvider1(lambdaRate, provider1ServiceRate, simulationTime)\n",
    "    \n",
    "    # simulación para el Proveedor 2\n",
    "    requestsHandled2, totalServiceTime2, idleTime2, totalWaitTime2, averageWaitTime2, avgQueueLength2, lastDeparture2 = simulateProvider2(lambdaRate, provider2ServerPower, provider2NumServers, simulationTime)\n",
    "    \n",
    "    # resultados para el Proveedor 1\n",
    "    print(\"Proveedor 1 (Mountain Mega Computing):\")\n",
    "    print(f\"- Solicitudes atendidas: {requestsHandled1}\")\n",
    "    print(f\"- Tiempo ocupado: {totalServiceTime1:.2f} segundos\")\n",
    "    print(f\"- Tiempo desocupado (idle): {idleTime1:.2f} segundos\")\n",
    "    print(f\"- Tiempo total en cola: {totalWaitTime1:.2f} segundos\")\n",
    "    print(f\"- Tiempo promedio en cola: {averageWaitTime1:.4f} segundos\")\n",
    "    print(f\"- Promedio de solicitudes en cola por segundo: {avgQueueLength1:.4f}\")\n",
    "    print(f\"- Momento de la salida de la última solicitud: {lastDeparture1:.2f} segundos\\n\")\n",
    "    \n",
    "    # resultados para el Proveedor 2\n",
    "    print(\"Proveedor 2 (Pizzita Computing):\")\n",
    "    print(f\"- Solicitudes atendidas: {requestsHandled2}\")\n",
    "    print(f\"- Tiempo ocupado: {totalServiceTime2:.2f} segundos\")\n",
    "    print(f\"- Tiempo desocupado (idle): {idleTime2:.2f} segundos\")\n",
    "    print(f\"- Tiempo total en cola: {totalWaitTime2:.2f} segundos\")\n",
    "    print(f\"- Tiempo promedio en cola: {averageWaitTime2:.4f} segundos\")\n",
    "    print(f\"- Promedio de solicitudes en cola por segundo: {avgQueueLength2:.4f}\")\n",
    "    print(f\"- Momento de la salida de la última solicitud: {lastDeparture2:.2f} segundos\")"
   ]
  },
  {
   "cell_type": "code",
   "execution_count": 5,
   "metadata": {},
   "outputs": [
    {
     "name": "stdout",
     "output_type": "stream",
     "text": [
      "Proveedor 1 (Mountain Mega Computing):\n",
      "- Solicitudes atendidas: 102928\n",
      "- Tiempo ocupado: 736.94 segundos\n",
      "- Tiempo desocupado (idle): 2863.06 segundos\n",
      "- Tiempo total en cola: 294.05 segundos\n",
      "- Tiempo promedio en cola: 0.0029 segundos\n",
      "- Promedio de solicitudes en cola por segundo: 0.0817\n",
      "- Momento de la salida de la última solicitud: 3598.27 segundos\n",
      "\n",
      "Proveedor 2 (Pizzita Computing):\n",
      "- Solicitudes atendidas: 115103\n",
      "- Tiempo ocupado: 11508.13 segundos\n",
      "- Tiempo desocupado (idle): 6491.87 segundos\n",
      "- Tiempo total en cola: 799.42 segundos\n",
      "- Tiempo promedio en cola: 0.0069 segundos\n",
      "- Promedio de solicitudes en cola por segundo: 0.2221\n",
      "- Momento de la salida de la última solicitud: 3582.08 segundos\n"
     ]
    }
   ],
   "source": [
    "# Parámetros de la simulación\n",
    "lambdaRate = 40                     # Tasa de solicitudes por segundo (2,400 solicitudes por minuto)\n",
    "provider1ServiceRate = 100          # Capacidad de servicio del Proveedor 1 (Mountain Mega Computing)\n",
    "provider2ServerPower = 10           # Capacidad de servicio de un servidor de Pizzita Computing\n",
    "provider2NumServers = 5             # Número de servidores para Pizzita Computing\n",
    "simulationTime = 1                  # Tiempo de simulación en horas\n",
    "\n",
    "# Ejecutar la simulación para ambos proveedores\n",
    "runSimulations(lambdaRate, provider1ServiceRate, provider2ServerPower, provider2NumServers, simulationTime)"
   ]
  },
  {
   "cell_type": "markdown",
   "metadata": {},
   "source": [
    "## Tasks\n",
    "1. Modele, simule y analice el comportamiento de ambos sistemas durante una hora de ejecución de C3, y para cada sistema responda\n",
    "- ¿Cuántas solicitudes atendió cada servidor?\n",
    "    - Mountain Mega Computing: 102,928 solicitudes\n",
    "    - Pizzita Computing: 115,103 solicitudes\n",
    "- ¿Cuánto tiempo estuvo cada servidor ocupado?\n",
    "    - Mountain Mega Computing: 736.94 segundos de 3,600 segundos.\n",
    "    - Pizzita Computing: 11,508.13 segundos de 3,600 segundos. Lo cual parece extraño, pero es por el uso de múltiples servidores.\n",
    "- ¿Cuánto tiempo estuvo cada servidor desocupado (iddle)?\n",
    "    - Mountain Mega Computing: 2,863.06 segundos\n",
    "    - Pizzita Computing: 6,491.87 segundos\n",
    "- ¿Cuánto tiempo en total estuvieron las solicitudes en cola?\n",
    "    - Mountain Mega Computing: 294.05 segundos\n",
    "    - Pizzita Computing: 799.42 segundos\n",
    "- En promedio ¿cuánto tiempo estuvo cada solicitud en cola?\n",
    "    - Mountain Mega Computing: 0.0029 segundos\n",
    "    - Pizzita Computing: 0.0069 segundos\n",
    "- En promedio, ¿cuántas solicitudes estuvieron en cola cada segundo?\n",
    "    - Mountain Mega Computing: 0.0817 solicitudes en cola por segundo\n",
    "    - Pizzita Computing: 0.2221 solicitudes en cola por segundo\n",
    "- ¿Cuál es el momento de la salida de la última solicitud?\n",
    "    - Mountain Mega Computing: 3,598.27\n",
    "    - Pizzita Computing: 3,582.08"
   ]
  },
  {
   "cell_type": "markdown",
   "metadata": {},
   "source": [
    "2. Determine empíricamente cuántos servidores se necesitaría “alquilar” en Pizzita computing para asegurar que siempre habrá al menos un servidor disponible para atender una solicitud dada (en otras palabras, una solicitud nunca tiene que esperar en cola)"
   ]
  },
  {
   "cell_type": "markdown",
   "metadata": {},
   "source": [
    "3. Se espera que a partir del tercer año del lanzamiento de su aplicación, la cantidad de usuarios sufra un alza, y por tanto deberán atender como máximo 6000 solicitudes por minuto. Resuelva el inciso 1 y 2 para esta nueva configuración."
   ]
  },
  {
   "cell_type": "markdown",
   "metadata": {},
   "source": [
    "4. Emita una recomendación para la junta directiva"
   ]
  }
 ],
 "metadata": {
  "kernelspec": {
   "display_name": "Python 3",
   "language": "python",
   "name": "python3"
  },
  "language_info": {
   "codemirror_mode": {
    "name": "ipython",
    "version": 3
   },
   "file_extension": ".py",
   "mimetype": "text/x-python",
   "name": "python",
   "nbconvert_exporter": "python",
   "pygments_lexer": "ipython3",
   "version": "3.11.9"
  }
 },
 "nbformat": 4,
 "nbformat_minor": 2
}
