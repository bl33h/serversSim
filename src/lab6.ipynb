{
 "cells": [
  {
   "cell_type": "markdown",
   "metadata": {},
   "source": [
    "# lab 6 - servers simulation\n",
    "- Ricardo Méndez 21289\n",
    "- Sara Echeverría 21371\n",
    "- Melissa Pérez 21385"
   ]
  },
  {
   "cell_type": "markdown",
   "metadata": {},
   "source": [
    "Suponga que usted está a cargo de definir la arquitectura para el lanzamiento de su próxima aplicación web, C3 (sistema de contabilidad de la carreta contadora). La junta directiva le ha solicitado encontrar el mejor servicio de hosting para el proyecto. Tras una extensa investigación, concluye que las mejores opciones son: \n",
    "- Proveedor 1 - Mountain Mega Computing, con una infraestructura de servidor único que puede atender hasta 100 solicitudes por segundo.\n",
    "- Proveedor 2 - Pizzita Computing, con una infraestructura en la nube de múltiples servidores medianamente potentes, donde cada servidor tiene una décima parte de la potencia del servidor de Mountain Mega Computing, y se paga solo por los servidores necesarios. \n",
    "\n",
    "Las pruebas de estrés y las proyecciones indican que su aplicación no excederá las 2,400 solicitudes por minuto durante los primeros dos años. Un análisis de sistemas similares sugiere que las solicitudes seguirán un proceso de Poisson, con tiempos de servicio modelados por una variable exponencial. Como debe presentar su decisión mañana, opta por realizar una simulación basada en la promoción de los proveedores para concluir cuál será la mejor opción."
   ]
  },
  {
   "cell_type": "markdown",
   "metadata": {},
   "source": [
    "## Tasks\n",
    "1. Modele, simule y analice el comportamiento de ambos sistemas durante una hora de ejecución de C3, y para cada sistema responda\n",
    "- ¿Cuántas solicitudes atendió cada servidor?\n",
    "- ¿Cuánto tiempo estuvo cada servidor ocupado?\n",
    "- ¿Cuánto tiempo estuvo cada servidor desocupado (iddle)?\n",
    "- ¿Cuánto tiempo en total estuvieron las solicitudes en cola?\n",
    "- En promedio ¿cuánto tiempo estuvo cada solicitud en cola?\n",
    "- En promedio, ¿cuántas solicitudes estuvieron en cola cada segundo?\n",
    "- ¿Cuál es el momento de la salida de la última solicitud?"
   ]
  },
  {
   "cell_type": "markdown",
   "metadata": {},
   "source": [
    "2. Determine empíricamente cuántos servidores se necesitaría “alquilar” en Pizzita computing para asegurar que siempre habrá al menos un servidor disponible para atender una solicitud dada (en otras palabras, una solicitud nunca tiene que esperar en cola)"
   ]
  },
  {
   "cell_type": "markdown",
   "metadata": {},
   "source": [
    "3. Se espera que a partir del tercer año del lanzamiento de su aplicación, la cantidad de usuarios sufra un alza, y por tanto deberán atender como máximo 6000 solicitudes por minuto. Resuelva el inciso 1 y 2 para esta nueva configuración."
   ]
  },
  {
   "cell_type": "markdown",
   "metadata": {},
   "source": [
    "4. Emita una recomendación para la junta directiva"
   ]
  }
 ],
 "metadata": {
  "language_info": {
   "name": "python"
  }
 },
 "nbformat": 4,
 "nbformat_minor": 2
}
